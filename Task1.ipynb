{
 "cells": [
  {
   "cell_type": "code",
   "execution_count": 2,
   "id": "47a14cda",
   "metadata": {},
   "outputs": [
    {
     "name": "stdout",
     "output_type": "stream",
     "text": [
      "[[7, 9], [7, 8, 1]]\n"
     ]
    }
   ],
   "source": [
    "import sys\n",
    "import pennylane as qml\n",
    "from pennylane import numpy as np\n",
    "\n",
    "def find_subsets(l,v):\n",
    "    \"\"\"This function will determine subsets where the sum is equal to the value v in the following vector l\n",
    "    Args:\n",
    "        - l (list): input vector \n",
    "        - v (integer): input positive integer \n",
    "    output:\n",
    "        - print the possible subsets \n",
    "    \"\"\"\n",
    "    n=len(l)\n",
    "    m=5\n",
    "    dev = qml.device(\"default.qubit\", wires=n+m)\n",
    "    def CU1(theta,bk,wires):\n",
    "        qml.QubitUnitary(np.array([[1,0],[0,1-bk+(np.cos(theta)+1j*np.sin(theta))*bk]]),wires=wires)\n",
    "    def add_part(i):\n",
    "        b=[int(j) for j in np.binary_repr(l[i], width=m)]\n",
    "        for j in range(m):\n",
    "            for k in range(j,m):\n",
    "                CU1(theta=2*np.pi/2**(k-j+1),bk=b[k],wires=n+m-(j+1)) \n",
    "    def add():\n",
    "        qml.QFT(wires=range(n,n+m))   \n",
    "        for i in range(n):\n",
    "            qml.ctrl(add_part,control=i)(i)        \n",
    "        qml.adjoint(qml.QFT)(wires=range(n,n+m))\n",
    "    def oracle():\n",
    "        add()\n",
    "        arr=np.eye(2**m)\n",
    "        arr[v,v]=-1\n",
    "        qml.QubitUnitary(arr,wires=range(n,n+m))\n",
    "        qml.adjoint(add)() \n",
    "    @qml.qnode(dev)     \n",
    "    def find():\n",
    "        qml.BasisState(np.array([0]*(n+m)),wires=range(n+m))\n",
    "        for i in range(n):\n",
    "            qml.Hadamard(wires=i)             \n",
    "        for t in range(3):          \n",
    "            oracle()\n",
    "            for i in range(n):\n",
    "                qml.Hadamard(wires=i)\n",
    "            arr=np.eye(2**n)\n",
    "            for i in range(1,2**n):\n",
    "                arr[i,i]=-1\n",
    "            qml.QubitUnitary(arr,wires=range(n))\n",
    "            for i in range(n):\n",
    "                qml.Hadamard(wires=i)\n",
    "        return qml.probs(wires=range(n))\n",
    "    res=find()\n",
    "    subsets=[]\n",
    "    for i in range(len(res)):\n",
    "        if res[i]>np.max(res)-0.0001:\n",
    "            li=[int(j) for j in np.binary_repr(i, width=n)] \n",
    "            subsets.append([l[j] for j in range(len(li)) if li[j]==1])\n",
    "                   \n",
    "                \n",
    "    return subsets\n",
    "if __name__ == \"__main__\":\n",
    "    #Example l=[5,7,8,9,1],v=16\n",
    "    print(find_subsets(l=[5,7,8,9,1],v=16))"
   ]
  }
 ],
 "metadata": {
  "kernelspec": {
   "display_name": "Python 3",
   "language": "python",
   "name": "python3"
  },
  "language_info": {
   "codemirror_mode": {
    "name": "ipython",
    "version": 3
   },
   "file_extension": ".py",
   "mimetype": "text/x-python",
   "name": "python",
   "nbconvert_exporter": "python",
   "pygments_lexer": "ipython3",
   "version": "3.8.8"
  }
 },
 "nbformat": 4,
 "nbformat_minor": 5
}
